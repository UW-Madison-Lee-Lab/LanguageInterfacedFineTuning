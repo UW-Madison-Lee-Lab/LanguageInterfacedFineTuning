{
 "cells": [
  {
   "cell_type": "code",
   "execution_count": 2,
   "id": "96871875",
   "metadata": {},
   "outputs": [],
   "source": [
    "import time, os, json\n",
    "import matplotlib.pyplot as plt\n",
    "import numpy as np\n",
    "import seaborn as sns\n",
    "import pandas as pd\n",
    "import matplotlib as mpl\n",
    "from operator import is_not\n",
    "from functools import partial\n",
    "from sklearn.linear_model import LinearRegression\n",
    "%matplotlib inline"
   ]
  },
  {
   "cell_type": "code",
   "execution_count": 3,
   "id": "5743b498",
   "metadata": {},
   "outputs": [],
   "source": [
    "def regressionLoss(y_pred, y_true, metric = 'RAE', outlier_filter = False, outlier_thres = 20):\n",
    "    metric = metric.lower()\n",
    "    if outlier_filter:\n",
    "        std = regressionLoss(y_pred, y_true, 'RMSE', False)\n",
    "        outlier_flag = (np.abs(y_pred - y_true) > std*outlier_thres)\n",
    "        num_outlier = np.sum(outlier_flag)\n",
    "        return regressionLoss(y_pred[~outlier_flag], y_true[~outlier_flag], metric, False), num_outlier\n",
    "\n",
    "    y_true, y_pred = np.array(y_true), np.array(y_pred)\n",
    "    y_mean = y_true.mean()\n",
    "    if metric == 'rae':\n",
    "        return sum(abs(y_pred - y_true)) / sum(abs(y_mean - y_true))\n",
    "    elif metric == 'rse':\n",
    "        return sum((y_pred - y_true)**2) / sum((y_mean - y_true)**2)\n",
    "    elif metric == 'rmse':\n",
    "        return ((y_pred - y_true)**2).mean()**.5\n",
    "    elif metric == 'r square':\n",
    "        sst = sum((y_true - y_mean) ** 2)\n",
    "        ssr = sum((y_true - y_pred) ** 2)\n",
    "        return 1 - ssr/sst"
   ]
  },
  {
   "cell_type": "code",
   "execution_count": 4,
   "id": "307fd60b",
   "metadata": {},
   "outputs": [
    {
     "ename": "FileNotFoundError",
     "evalue": "[Errno 2] No such file or directory: 'data'",
     "output_type": "error",
     "traceback": [
      "\u001b[0;31m---------------------------------------------------------------------------\u001b[0m",
      "\u001b[0;31mFileNotFoundError\u001b[0m                         Traceback (most recent call last)",
      "Input \u001b[0;32mIn [4]\u001b[0m, in \u001b[0;36m<cell line: 1>\u001b[0;34m()\u001b[0m\n\u001b[0;32m----> 1\u001b[0m \u001b[38;5;28;01mfor\u001b[39;00m file \u001b[38;5;129;01min\u001b[39;00m \u001b[43mos\u001b[49m\u001b[38;5;241;43m.\u001b[39;49m\u001b[43mlistdir\u001b[49m\u001b[43m(\u001b[49m\u001b[38;5;124;43m'\u001b[39;49m\u001b[38;5;124;43mdata\u001b[39;49m\u001b[38;5;124;43m'\u001b[39;49m\u001b[43m)\u001b[49m:\n\u001b[1;32m      2\u001b[0m     \u001b[38;5;28;01mif\u001b[39;00m file\u001b[38;5;241m.\u001b[39mendswith(\u001b[38;5;124m'\u001b[39m\u001b[38;5;124mall.json\u001b[39m\u001b[38;5;124m'\u001b[39m):\n\u001b[1;32m      3\u001b[0m         \u001b[38;5;28mprint\u001b[39m(file)\n",
      "\u001b[0;31mFileNotFoundError\u001b[0m: [Errno 2] No such file or directory: 'data'"
     ]
    }
   ],
   "source": [
    "for file in os.listdir('data'):\n",
    "    if file.endswith('all.json'):\n",
    "        print(file)"
   ]
  },
  {
   "cell_type": "code",
   "execution_count": 13,
   "id": "5c92a06a",
   "metadata": {},
   "outputs": [
    {
     "ename": "KeyError",
     "evalue": "'gptj_grid_y'",
     "output_type": "error",
     "traceback": [
      "\u001b[0;31m---------------------------------------------------------------------------\u001b[0m",
      "\u001b[0;31mKeyError\u001b[0m                                  Traceback (most recent call last)",
      "Input \u001b[0;32mIn [13]\u001b[0m, in \u001b[0;36m<cell line: 23>\u001b[0;34m()\u001b[0m\n\u001b[1;32m     27\u001b[0m grid_x \u001b[38;5;241m=\u001b[39m np\u001b[38;5;241m.\u001b[39marray(data_json[\u001b[38;5;124m'\u001b[39m\u001b[38;5;124mgrid_x\u001b[39m\u001b[38;5;124m'\u001b[39m])\n\u001b[1;32m     28\u001b[0m gpt3 \u001b[38;5;241m=\u001b[39m np\u001b[38;5;241m.\u001b[39marray(data_json[\u001b[38;5;124m'\u001b[39m\u001b[38;5;124mgpt3_grid_y\u001b[39m\u001b[38;5;124m'\u001b[39m])\n\u001b[0;32m---> 29\u001b[0m gptj \u001b[38;5;241m=\u001b[39m np\u001b[38;5;241m.\u001b[39marray(\u001b[43mdata_json\u001b[49m\u001b[43m[\u001b[49m\u001b[38;5;124;43m'\u001b[39;49m\u001b[38;5;124;43mgptj_grid_y\u001b[39;49m\u001b[38;5;124;43m'\u001b[39;49m\u001b[43m]\u001b[49m)\n\u001b[1;32m     30\u001b[0m invalid_idx \u001b[38;5;241m=\u001b[39m gpt3 \u001b[38;5;241m==\u001b[39m \u001b[38;5;28;01mNone\u001b[39;00m\n\u001b[1;32m     31\u001b[0m valid_gpt3 \u001b[38;5;241m=\u001b[39m gpt3[\u001b[38;5;241m~\u001b[39minvalid_idx]\n",
      "\u001b[0;31mKeyError\u001b[0m: 'gptj_grid_y'"
     ]
    },
    {
     "data": {
      "image/png": "[encoded data removed]",
      "text/plain": [
       "<Figure size 1440x216 with 4 Axes>"
      ]
     },
     "metadata": {
      "needs_background": "light"
     },
     "output_type": "display_data"
    }
   ],
   "source": [
    "lbd_list = [0, 10, 50, 100]\n",
    "\n",
    "file_list = {}\n",
    "        \n",
    "width = 20\n",
    "height = 3\n",
    "\n",
    "plt.rc('font', family='serif', serif='times new roman')\n",
    "plt.rc('text', usetex=True)\n",
    "plt.rc('xtick', labelsize=28)\n",
    "plt.rc('ytick', labelsize=28)\n",
    "plt.rc('axes', labelsize=28)\n",
    "plt.rc('axes', linewidth=1)\n",
    "mpl.rcParams['patch.linewidth']=0.5 #width of the boundary of legend\n",
    "\n",
    "####\n",
    "markers = ['o', '*', '<']\n",
    "\n",
    "fig, ax = plt.subplots(nrows=1, ncols=len(lbd_list), sharex=True, sharey=True) #plot two subgraphs in one figure, 1 by 2 size, sharing y-axis\n",
    "fig.subplots_adjust(left=.03, bottom=.15, right=0.99, top=0.9, wspace=0.2) #margin of the figure\n",
    "fig.set_size_inches(width, height) #exact size of the figure\n",
    "\n",
    "for i in range(len(lbd_list)):\n",
    "    lbd = lbd_list[i]\n",
    "    with open('data_1/linear_lbd_%d_n_250_p_1_int_0_(-10.0,10.0)_noise_0.00_all.json' % lbd, 'r') as f:\n",
    "        data_json = json.load(f)\n",
    "    grid_x = np.array(data_json['grid_x'])\n",
    "    gpt3 = np.array(data_json['gpt3_grid_y'])\n",
    "    gptj = np.array(data_json['gptj_grid_y'])\n",
    "    invalid_idx = gpt3 == None\n",
    "    valid_gpt3 = gpt3[~invalid_idx]\n",
    "    \n",
    "    X_train = data_json['train_x']\n",
    "    y_train = data_json['train_y']\n",
    "    lm = LinearRegression()\n",
    "    lm.fit(X_train, y_train)\n",
    "    grid_y = lm.predict(grid_x)\n",
    "    \n",
    "    ax[i].plot(grid_x[~invalid_idx], valid_gpt3, label = 'LIFT/GPT-3')\n",
    "    ax[i].plot(grid_x,gptj, label = 'LIFT/GPT-J')\n",
    "    rae = regressionLoss(valid_gpt3, grid_y)\n",
    "    ax[i].set_title(r'$\\lambda=$%d, RAE = %.3f' % (lbd,rae), fontsize = 20)\n",
    "    lm = LinearRegression()\n",
    "    lm.fit(X_train, y_train)\n",
    "    grid_y = lm.predict(grid_x)\n",
    "    ax[i].plot(grid_x, grid_y, label = 'Ridge')\n",
    "ax[0].legend(fontsize = 15)\n",
    "plt.savefig(os.path.join('ridge_vis.pdf'))\n",
    "None"
   ]
  },
  {
   "cell_type": "code",
   "execution_count": 10,
   "id": "34f9f14b",
   "metadata": {},
   "outputs": [
    {
     "name": "stdout",
     "output_type": "stream",
     "text": [
      "---------------------------------------------\n",
      "| p |lambda|    RAE LR      |    RAE Ridge   |\n",
      "---------------------------------------------\n",
      "1   & 0      & 0.000 $\\pm$ 0.000        & 0.000 $\\pm$ 0.000         &  0.915$\\pm$0.000         & 0.000$\\pm$0.000         \\\\\n",
      "1   & 10     & 0.000 $\\pm$ 0.000        & 0.016 $\\pm$ 0.000         &  0.915$\\pm$0.000         & 0.016$\\pm$0.000         \\\\\n",
      "1   & 50     & 0.000 $\\pm$ 0.000        & 0.403 $\\pm$ 0.000         &  0.915$\\pm$0.000         & 0.402$\\pm$0.000         \\\\\n",
      "1   & 100    & 0.000 $\\pm$ 0.000        & 1.691 $\\pm$ 0.000         &  0.915$\\pm$0.000         & 1.690$\\pm$0.000         \\\\\n",
      "1   & 1000   & 0.000 $\\pm$ 0.000        & 170.406 $\\pm$ 0.000       &  0.915$\\pm$0.000         & 170.612$\\pm$0.000       \\\\\n",
      "\\midrule\n",
      "10  & 0      & 0.532 $\\pm$ 0.000        & 0.532 $\\pm$ 0.000         &  0.915$\\pm$0.000         & 0.521$\\pm$0.000         \\\\\n",
      "10  & 10     & 0.374 $\\pm$ 0.000        & 0.369 $\\pm$ 0.000         &  0.915$\\pm$0.000         & 0.504$\\pm$0.000         \\\\\n",
      "10  & 50     & 0.417 $\\pm$ 0.000        & 0.523 $\\pm$ 0.000         &  0.915$\\pm$0.000         & 0.563$\\pm$0.000         \\\\\n",
      "10  & 100    & 0.365 $\\pm$ 0.000        & 1.307 $\\pm$ 0.000         &  0.915$\\pm$0.000         & 1.539$\\pm$0.000         \\\\\n",
      "10  & 1000   & 0.414 $\\pm$ 0.000        & 114.042 $\\pm$ 0.000       &  0.915$\\pm$0.000         & 111.357$\\pm$0.000       \\\\\n",
      "\\midrule\n",
      "50  & 0      & 0.688 $\\pm$ 0.000        & 0.688 $\\pm$ 0.000         &  0.915$\\pm$0.000         & 1.064$\\pm$0.000         \\\\\n",
      "50  & 10     & 0.628 $\\pm$ 0.000        & 0.635 $\\pm$ 0.000         &  0.915$\\pm$0.000         & 0.909$\\pm$0.000         \\\\\n",
      "50  & 50     & 0.553 $\\pm$ 0.000        & 0.732 $\\pm$ 0.000         &  0.915$\\pm$0.000         & 1.296$\\pm$0.000         \\\\\n",
      "50  & 100    & 0.774 $\\pm$ 0.000        & 1.857 $\\pm$ 0.000         &  0.915$\\pm$0.000         & 2.311$\\pm$0.000         \\\\\n",
      "50  & 1000   & 0.970 $\\pm$ 0.000        & 118.241 $\\pm$ 0.000       &  0.915$\\pm$0.000         & 133.122$\\pm$0.000       \\\\\n",
      "\\midrule\n"
     ]
    }
   ],
   "source": [
    "lbd_list = [0,10,50,100, 1000]\n",
    "p_list = [1, 10, 50] \n",
    "width = 45\n",
    "\n",
    "print(\"-\" * width)\n",
    "print(\"| p |lambda|    RAE LR      |    RAE Ridge   |\")\n",
    "print(\"-\" * width)\n",
    "\n",
    "rae_ridge_gpt3, rae_ridge_gptj = {}, {}\n",
    "rae_lr_gpt3, rae_lr_gptj = {}, {}\n",
    "for sim_idx in range(1,4):\n",
    "    for p in p_list:\n",
    "        for i in range(len(lbd_list)):\n",
    "            if not (p,i) in rae_ridge_gpt3:\n",
    "                rae_ridge_gpt3[p,i], rae_lr_gpt3[p,i] = [], []\n",
    "                rae_ridge_gptj[p,i], rae_lr_gptj[p,i] = [], []\n",
    "            lbd = lbd_list[i]\n",
    "            with open('data_3/linear_lbd_%d_n_250_p_%d_int_0_(-10.0,10.0)_noise_0.00_all.json' % (lbd, p), 'r') as f:\n",
    "                data_json = json.load(f)\n",
    "            grid_x = np.array(data_json['test_x'])\n",
    "            gpt3 = np.array(data_json['gpt3_test_y'])\n",
    "            gptj = np.array(data_json['gptj_test_y'])\n",
    "            invalid_idx = gpt3 == None\n",
    "            # print(invalid_idx.sum())\n",
    "            valid_gpt3 = gpt3[~invalid_idx]\n",
    "\n",
    "            X_train = data_json['train_x']\n",
    "            y_train = data_json['train_y']\n",
    "            lm = LinearRegression()\n",
    "            lm.fit(X_train, y_train)\n",
    "            grid_y = lm.predict(grid_x)\n",
    "\n",
    "            lm = LinearRegression()\n",
    "            lm.fit(X_train, y_train)\n",
    "            grid_y = lm.predict(grid_x)\n",
    "\n",
    "            rae_ridge_gpt3[p,i].append(regressionLoss(valid_gpt3, grid_y))\n",
    "            rae_lr_gpt3[p,i].append(regressionLoss(valid_gpt3, np.array(data_json['test_y'])))\n",
    "            \n",
    "            rae_ridge_gptj[p,i].append(regressionLoss(gptj, grid_y))\n",
    "            rae_lr_gptj[p,i].append(regressionLoss(gptj, np.array(data_json['test_y'])))\n",
    "            \n",
    "for p in p_list:\n",
    "    for i in range(len(lbd_list)):\n",
    "        lbd = lbd_list[i]\n",
    "        m_ridge_gpt3, s_ridge_gpt3 = np.mean(rae_ridge_gpt3[p,i]), np.std(rae_ridge_gpt3[p,i])\n",
    "        m_lr_gpt3, s_lr_gpt3 = np.mean(rae_lr_gpt3[p,i]), np.std(rae_lr_gpt3[p,i])\n",
    "        \n",
    "        m_ridge_gptj, s_ridge_gptj = np.mean(rae_ridge_gptj[p,i]), np.std(rae_ridge_gptj[p,i])\n",
    "        m_lr_gptj, s_lr_gptj = np.mean(rae_lr_gptj[p,i]), np.std(rae_lr_gptj[p,i])\n",
    "        print(r'%d%s & %d%s & %.3f $\\pm$ %.3f%s& %.3f $\\pm$ %.3f%s &  %.3f$\\pm$%.3f%s & %.3f$\\pm$%.3f%s \\\\' % (p,' '*(3-len(str(p))),lbd,' '*(6-len(str(lbd))),m_lr_gptj,s_lr_gptj, ' '*(9-len(str(round(m_lr_gptj)))),m_ridge_gptj,s_ridge_gptj, ' '*(9-len(str(round(m_ridge_gptj)))),m_lr,s_lr, ' '*(9-len(str(round(m_lr)))), m_ridge_gpt3,s_ridge_gpt3, ' '*(9-len(str(round(m_ridge_gpt3))))))\n",
    "    print('\\midrule')"
   ]
  },
  {
   "cell_type": "code",
   "execution_count": null,
   "id": "80da7bb9",
   "metadata": {},
   "outputs": [],
   "source": []
  }
 ],
 "metadata": {
  "kernelspec": {
   "display_name": "Python 3 (ipykernel)",
   "language": "python",
   "name": "python3"
  },
  "language_info": {
   "codemirror_mode": {
    "name": "ipython",
    "version": 3
   },
   "file_extension": ".py",
   "mimetype": "text/x-python",
   "name": "python",
   "nbconvert_exporter": "python",
   "pygments_lexer": "ipython3",
   "version": "3.8.10"
  }
 },
 "nbformat": 4,
 "nbformat_minor": 5
}
