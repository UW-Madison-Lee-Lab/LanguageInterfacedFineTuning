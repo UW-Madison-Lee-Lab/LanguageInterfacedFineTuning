{
 "cells": [
  {
   "cell_type": "code",
   "execution_count": 1,
   "id": "1523370e",
   "metadata": {},
   "outputs": [],
   "source": [
    "from curses.ascii import RS\n",
    "import os, json, openai, time\n",
    "import numpy as np\n",
    "from sklearn import linear_model\n",
    "from sklearn.metrics import mean_squared_error\n",
    "from sklearn.neighbors import KNeighborsRegressor\n",
    "from sklearn.preprocessing import PolynomialFeatures\n",
    "import pandas as pd\n",
    "from sklearn.ensemble import GradientBoostingRegressor, RandomForestRegressor\n",
    "from sklearn.linear_model import LinearRegression\n",
    "from sklearn.kernel_ridge import KernelRidge\n",
    "from sklearn.neighbors import KNeighborsRegressor\n",
    "from sklearn.neural_network import MLPRegressor\n",
    "from sklearn.gaussian_process import GaussianProcessRegressor\n",
    "from sklearn.gaussian_process.kernels import DotProduct, WhiteKernel, RBF, ConstantKernel"
   ]
  },
  {
   "cell_type": "code",
   "execution_count": 2,
   "id": "c8841b6c",
   "metadata": {},
   "outputs": [],
   "source": [
    "func_list = [\"linear\", \"quadratic\", \"exponential\",\"cosine\",\"l1norm\",\"piecewise\"]\n",
    "metrics = ['loss', 'loss_woo', 'num_o', 'poly_loss', 'krr_loss', 'knn_loss', 'nn_loss', 'xg_loss', 'rf_loss', 'gp_loss']\n",
    "setting_cols = ['function', 'noise_level', 'p', 'integer', '(lb,ub)', 'n_train', 'n_valid', 'n_test']"
   ]
  },
  {
   "cell_type": "code",
   "execution_count": 3,
   "id": "95f2ce0b",
   "metadata": {},
   "outputs": [],
   "source": [
    "sort_func = {'linear':1, 'quadratic':2, 'exponential':3, 'cosine':4, 'l1norm':5, 'piecewise':6}\n",
    "\n",
    "# kernel = DotProduct() + WhiteKernel()\n",
    "kernel = ConstantKernel(1.0) * RBF(length_scale=10)\n",
    "reg_model = {\n",
    "    'poly': PolynomialFeatures(3),\n",
    "    'knn': [KNeighborsRegressor(n_neighbors=2),KNeighborsRegressor(n_neighbors=5),KNeighborsRegressor(n_neighbors=8)], \n",
    "    'linreg': LinearRegression(),\n",
    "    'krr': [KernelRidge(kernel=\"rbf\", gamma=0.01), KernelRidge(kernel=\"rbf\", gamma=0.1), KernelRidge(kernel=\"rbf\", gamma=1)],\n",
    "    'nn': [MLPRegressor(random_state=1, max_iter=500, hidden_layer_sizes = (50,50,50), learning_rate_init=0.01), MLPRegressor(random_state=1, max_iter=500, hidden_layer_sizes = (50,50,50), learning_rate_init=0.001), MLPRegressor(random_state=1, max_iter=500, hidden_layer_sizes = (50,50,50), learning_rate_init=0.0001)],\n",
    "    'xg': [GradientBoostingRegressor(n_estimators=500, max_depth=4, min_samples_split=5, learning_rate=0.1, loss='squared_error'), GradientBoostingRegressor(n_estimators=500, max_depth=4, min_samples_split=5, learning_rate=0.01, loss='squared_error'), GradientBoostingRegressor(n_estimators=500, max_depth=4, min_samples_split=5, learning_rate=0.001, loss='squared_error')],\n",
    "    'rf': [RandomForestRegressor(n_estimators=500, max_depth=4, random_state=0), RandomForestRegressor(n_estimators=500, max_depth=6, random_state=0)],\n",
    "    'gp': [GaussianProcessRegressor(alpha=0.16000000000000003, copy_X_train=True,\n",
    "                         kernel=1.41**2 * RBF(length_scale=0.1),\n",
    "                         n_restarts_optimizer=5, normalize_y=False,\n",
    "                         optimizer='fmin_l_bfgs_b',random_state=0),\n",
    "                         GaussianProcessRegressor(alpha=0.16000000000000003, copy_X_train=True,\n",
    "                         kernel=1.41**2 * RBF(length_scale=0.1),\n",
    "                         n_restarts_optimizer=10, normalize_y=False,\n",
    "                         optimizer='fmin_l_bfgs_b',random_state=0)]\n",
    "}\n",
    "baseline_list = ['poly', 'krr', 'knn', 'nn', 'xg', 'rf', 'gp']"
   ]
  },
  {
   "cell_type": "code",
   "execution_count": 16,
   "id": "d855878d",
   "metadata": {},
   "outputs": [],
   "source": [
    "for file in file_list:\n",
    "    if file.endswith('all.json'):\n",
    "        if file.startswith('CCPP'):\n",
    "            split = file.split('_')\n",
    "            if len(split) == 2:\n",
    "                new_file_name = 'ccpp_' + split[0][4:] +'_all.json'\n",
    "                with open('%s/%s' % ('results/data_3', file), 'r') as f:\n",
    "                    data_json = json.load(f)\n",
    "                with open('%s/%s' % ('results/data_3', new_file_name), 'w') as f:\n",
    "                    json.dump(data_json, f)"
   ]
  },
  {
   "cell_type": "code",
   "execution_count": null,
   "id": "a775212c",
   "metadata": {},
   "outputs": [],
   "source": [
    "['results/data_3/ccpp_fn_60_all.json', 'results/data_3/insurance_fn_60_all.json', 'results/data_3/insurance_fn_full_all.json', 'results/data_3/insurance_full_all.json', 'results/data_3/servo_full_all.json', 'results/data_3/servo_fn_60_all.json', 'results/data_3/servo_20_all.json', 'results/data_3/insurance_60_all.json', 'results/data_3/insurance_fn_40_all.json', 'results/data_3/servo_fn_80_all.json', 'results/data_3/ccpp_60_all.json', 'results/data_3/servo_60_all.json', 'results/data_3/ccpp_full_all.json', 'results/data_3/ccpp_fn_20_all.json', 'results/data_3/servo_fn_full_all.json', 'results/data_3/ccpp_fn_80_all.json', 'results/data_3/ccpp_40_all.json', 'results/data_3/servo_40_all.json', 'results/data_3/servo_fn_20_all.json', 'results/data_3/ccpp_fn_40_all.json', 'results/data_3/servo_fn_40_all.json', 'results/data_3/insurance_fn_20_all.json', 'results/data_3/insurance_fn_80_all.json', 'results/data_3/ccpp_20_all.json', 'results/data_3/ccpp_fn_full_all.json', 'results/data_3/insurance_80_all.json', 'results/data_3/servo_80_all.json', 'results/data_3/insurance_40_all.json', 'results/data_3/ccpp_80_all.json', 'results/data_3/insurance_20_all.json']"
   ]
  },
  {
   "cell_type": "code",
   "execution_count": 27,
   "id": "2c626d68",
   "metadata": {
    "code_folding": []
   },
   "outputs": [],
   "source": [
    "file_list = []\n",
    "datadir = 'results/data_3'\n",
    "for file in os.listdir(datadir):\n",
    "    if file.endswith(\"all.json\"):\n",
    "        if len(file.split('_')) > 2:\n",
    "            file_list.append(\"%s/%s\" % (datadir, file))"
   ]
  },
  {
   "cell_type": "code",
   "execution_count": 43,
   "id": "6ec28aa4",
   "metadata": {},
   "outputs": [],
   "source": [
    "class NpEncoder(json.JSONEncoder):\n",
    "    def default(self, obj):\n",
    "        if isinstance(obj, np.integer):\n",
    "            return int(obj)\n",
    "        if isinstance(obj, np.floating):\n",
    "            return float(obj)\n",
    "        if isinstance(obj, np.ndarray):\n",
    "            return obj.tolist()\n"
   ]
  },
  {
   "cell_type": "code",
   "execution_count": 40,
   "id": "57d91bc0",
   "metadata": {},
   "outputs": [],
   "source": [
    "def regressionLoss(y_pred, y_true, metric = 'RAE', outlier_filter = False, outlier_thres = 5):\n",
    "    metric = metric.lower()\n",
    "    y_true, y_pred = np.array(y_true), np.array(y_pred)\n",
    "    if outlier_filter:\n",
    "        std = regressionLoss(y_pred, y_true, 'RMSE', False)\n",
    "        outlier_flag = (np.abs(y_pred - y_true) > std*outlier_thres)\n",
    "        num_outlier = np.sum(outlier_flag)\n",
    "        return regressionLoss(y_pred[~outlier_flag], y_true[~outlier_flag], metric, False), num_outlier\n",
    "    y_mean = y_true.mean()\n",
    "    if metric == 'rae':\n",
    "        return sum(abs(y_pred - y_true)) / sum(abs(y_mean - y_true))\n",
    "    elif metric == 'rse':\n",
    "        return sum((y_pred - y_true)**2) / sum((y_mean - y_true)**2)\n",
    "    elif metric == 'rmse':\n",
    "        return ((y_pred - y_true)**2).mean()**.5\n",
    "    elif metric == 'r square':\n",
    "        sst = sum((y_true - y_mean) ** 2)\n",
    "        ssr = sum((y_true - y_pred) ** 2)\n",
    "        return 1 - ssr/sst"
   ]
  },
  {
   "cell_type": "code",
   "execution_count": 81,
   "id": "93875583",
   "metadata": {},
   "outputs": [],
   "source": [
    "\n",
    "def save_csv(file_list, file_path, metric = 'RAE', grid_loss = False):\n",
    "    \"\"\"\n",
    "        \"train_x\",\"train_y\",validation_x,validation_y,test_x,test_y,gpt3_test_y,grid_x,grid_y,gpt3_grid_y\n",
    "        lr_test_y,lr_grid_y,poly_test_y,poly_grid_y,knn_test_y,knn_grid_y\n",
    "    \"\"\"\n",
    "    counter = 1\n",
    "    all_acc_syn= []\n",
    "    all_acc_real = []\n",
    "\n",
    "    n_train = 200\n",
    "    n_valid= 50\n",
    "    n_test = 100\n",
    "\n",
    "    for file in file_list:\n",
    "        if file.endswith(\"all.json\"):\n",
    "            print(\"----------------------------%d------------------------------\"%counter)\n",
    "            counter+=1\n",
    "            print(\"file path: \",file)\n",
    "            with open(file,'r') as fp:\n",
    "                data_json = json.load(fp)\n",
    "\n",
    "            syn = False\n",
    "            is_grid_dataset = True if 'grid_x' in data_json else False\n",
    "            headtail = os.path.split(file)\n",
    "            file_name_split = headtail[1].split('_')\n",
    "            if not syn: \n",
    "                dataname = file_name_split[0]\n",
    "                if len(file_name_split) == 3:\n",
    "                    context = False\n",
    "                    n_train = file_name_split[1]\n",
    "                else:\n",
    "                    context = True\n",
    "                    n_train = file_name_split[2]\n",
    "            else:\n",
    "                function = file_name_split[0]\n",
    "                n = int(file_name_split[2])\n",
    "                p = int(file_name_split[4])\n",
    "                integer = False if file_name_split[6] == '0' else True\n",
    "                lb_ub = file_name_split[7].replace(\".0\",\"\").replace(\",\",\", \")\n",
    "                noise_level = float(file_name_split[9])\n",
    "            if syn:\n",
    "                all_acc_syn.append([noise_level,function,p,integer,lb_ub,n_train,n_valid,n_test])\n",
    "            else:\n",
    "                all_acc_real.append([dataname, n_train, context])\n",
    "            try:\n",
    "                train_df = pd.read_csv('data/%s/%s_train_%s_num.csv' % (dataname, dataname, n_train))\n",
    "            except: \n",
    "                train_df = pd.read_csv('data/%s/%s_train_%s.csv' % (dataname, dataname, n_train))\n",
    "            X_train = train_df[train_df.columns[:-1]].values\n",
    "            y_train = train_df[train_df.columns[-1]].values\n",
    "            \n",
    "            \n",
    "            try:\n",
    "                test_df = pd.read_csv('data/%s/%s_test_num.csv' % (dataname, dataname))\n",
    "            except:\n",
    "                test_df = pd.read_csv('data/%s/%s_test.csv' % (dataname, dataname))\n",
    "            X_test = test_df[test_df.columns[:-1]].values\n",
    "            y_test = test_df[test_df.columns[-1]].values\n",
    "\n",
    "            if is_grid_dataset:\n",
    "                y_grid = np.array(data_json['grid_y'])\n",
    "                X_grid = np.array(data_json['grid_x'])\n",
    "            \n",
    "                train_min, train_max = file_name_split[7].split(',')\n",
    "                train_min = float(train_min[1:])\n",
    "                train_max = float(train_max[:-1])\n",
    "\n",
    "                loss_idx = X_grid.T[0] >= train_min\n",
    "                for col_idx in range(X_grid.shape[1]):\n",
    "                    loss_idx = loss_idx & (X_grid.T[col_idx] >= train_min) & (X_grid.T[col_idx] <= train_max)\n",
    "                # without extrapolation\n",
    "                X_grid_woe = X_grid[loss_idx]\n",
    "                y_grid_woe = y_grid[loss_idx]\n",
    "\n",
    "            poly = reg_model['poly']\n",
    "            X_poly_train = poly.fit_transform(X_train)\n",
    "            poly_reg = linear_model.LinearRegression()\n",
    "            poly_reg.fit(X_poly_train, y_train)\n",
    "            poly_test_y = poly_reg.predict(poly.transform(X_test))\n",
    "            data_json['poly_test_y'] = poly_test_y.tolist()\n",
    "\n",
    "            poly_loss = regressionLoss(poly_test_y, y_test, metric)\n",
    "\n",
    "            print(\"PR %s: %.2f\" % (metric , poly_loss))\n",
    "            data_json['poly_loss'] = poly_loss\n",
    "            if syn:\n",
    "                all_acc_syn[-1].append(poly_loss)\n",
    "            else:\n",
    "                all_acc_real[-1].append(poly_loss)\n",
    "\n",
    "            if is_grid_dataset:\n",
    "                poly_grid_y = poly_reg.predict(poly.transform(X_grid))\n",
    "                data_json['poly_grid_y'] = poly_grid_y.tolist()\n",
    "                poly_loss_grid = regressionLoss(poly_grid_y, y_grid, metric)\n",
    "\n",
    "                poly_grid_y_woe = poly_reg.predict(poly.transform(X_grid_woe))\n",
    "                poly_loss_grid_woe = regressionLoss(poly_grid_y_woe, y_grid_woe, metric)\n",
    "\n",
    "                if grid_loss: \n",
    "                    data_json['poly_loss_grid'] = poly_loss_grid\n",
    "                    data_json['poly_loss_grid_woe'] = poly_loss_grid_woe\n",
    "                    all_acc_syn[-1].extend([poly_loss_grid, poly_loss_grid_woe])\n",
    "                \n",
    "            for baseline_idx in range(1, len(baseline_list)):\n",
    "                # hyperparameter selection\n",
    "                baseline_loss = []\n",
    "                method = baseline_list[baseline_idx]\n",
    "                reg = []\n",
    "                for baseline_reg in reg_model[method]:\n",
    "                    baseline_reg.fit(X_train, y_train)\n",
    "                    baseline_test_y = baseline_reg.predict(X_test)\n",
    "                    data_json['%s_test_y' % method] = baseline_test_y.tolist()\n",
    "                    baseline_loss.append(regressionLoss(baseline_test_y, y_test, metric))\n",
    "                    reg.append(baseline_reg)\n",
    "\n",
    "                best_idx = np.array(baseline_loss).argmin()\n",
    "                baseline_loss = baseline_loss[best_idx]\n",
    "                baseline_reg = reg[best_idx]\n",
    "                print(\"%s %s: %.2f\" % (method.upper(), metric , baseline_loss))\n",
    "                data_json['%s_loss' % method] = baseline_loss\n",
    "                if syn:\n",
    "                    all_acc_syn[-1].append(baseline_loss)\n",
    "                else:\n",
    "                    all_acc_real[-1].append(baseline_loss)\n",
    "\n",
    "                if is_grid_dataset:\n",
    "                    baseline_grid_y = baseline_reg.predict(X_grid)\n",
    "                    data_json['%s_grid_y' % method] = baseline_grid_y.tolist()\n",
    "                    baseline_loss_grid = regressionLoss(baseline_grid_y, y_grid, metric)\n",
    "\n",
    "                    baseline_grid_y_woe = baseline_reg.predict(X_grid_woe)\n",
    "                    baseline_loss_grid_woe = regressionLoss(baseline_grid_y_woe, y_grid_woe, metric)\n",
    "\n",
    "                    if grid_loss: \n",
    "                        data_json['%s_loss_grid' % method] = baseline_loss_grid\n",
    "                        data_json['%s_loss_grid_woe' % method] = baseline_loss_grid_woe\n",
    "                        all_acc_syn[-1].extend([baseline_loss_grid, baseline_loss_grid_woe])\n",
    "\n",
    "            # calculate gpt3 loss\n",
    "            gpt3_test_y = np.array(data_json['gpt3_test_y'])\n",
    "            print(gpt3_test_y.shape)\n",
    "            print(y_test.shape)\n",
    "            loss = regressionLoss(gpt3_test_y, y_test, metric)\n",
    "\n",
    "            # try:\n",
    "            loss_woo, num_o = regressionLoss(gpt3_test_y, y_test, metric, True)\n",
    "\n",
    "            if syn:\n",
    "                all_acc_syn[-1].extend([len(y_test), loss, loss_woo, num_o])\n",
    "            else:\n",
    "                all_acc_real[-1].extend([len(y_test), loss, loss_woo, num_o])\n",
    "                \n",
    "            print('%s     : %.4f' % (metric, loss))\n",
    "            print('%s(woo): %.4f   #outlier: %2d}' % (metric, loss_woo, num_o))\n",
    "            data_json['loss_woo'] = loss_woo\n",
    "            data_json['num_o'] = num_o\n",
    "            data_json['loss'] = loss\n",
    "\n",
    "            # calculate gptj loss\n",
    "#             gptj_test_y = np.array(data_json['gptj_test_y'])\n",
    "#             loss_gptj, _ = regressionLoss(gptj_test_y, y_test, metric, True)\n",
    "#             data_json['loss_gptj'] = loss_gptj\n",
    "#             print(\"GPTJ %s: %.4f\" % (metric, loss_gptj))\n",
    "            \n",
    "#             if syn:\n",
    "#                 all_acc_syn[-1].append(loss_gptj)\n",
    "#             else:\n",
    "#                 all_acc_real[-1].append(loss_gptj)\n",
    "\n",
    "            if grid_loss:\n",
    "                gpt3_grid_y = np.array(data_json['gpt3_grid_y'])\n",
    "                invalid_idx = gpt3_grid_y == None\n",
    "                valid_y_grid = y_grid[~invalid_idx]\n",
    "                valid_gpt3_grid_y = gpt3_grid_y[~invalid_idx]\n",
    "                data_json['pc_valid_grid'] = 1-invalid_idx.mean()\n",
    "\n",
    "                loss_grid = regressionLoss(valid_gpt3_grid_y, valid_y_grid, metric, True)\n",
    "\n",
    "                gpt3_grid_y_woe = gpt3_grid_y[loss_idx]\n",
    "                invalid_idx = gpt3_grid_y_woe == None\n",
    "                valid_y_grid_woe = y_grid_woe[~invalid_idx]\n",
    "                valid_gpt3_grid_y_woe = gpt3_grid_y_woe[~invalid_idx]\n",
    "                loss_grid_woe = regressionLoss(valid_gpt3_grid_y_woe, valid_y_grid_woe, metric, True)\n",
    "\n",
    "                all_acc_syn[-1].extend([len(valid_y_grid), loss_grid, len(valid_y_grid_woe),loss_grid_woe])\n",
    "                \n",
    "                data_json['loss_grid'] = loss_grid\n",
    "                data_json['pc_valid_grid_woe'] = 1-invalid_idx.mean()\n",
    "                data_json['loss_grid_woe'] = loss_grid_woe\n",
    "\n",
    "#                 gptj_grid_y = np.array(data_json['gptj_grid_y'])\n",
    "#                 loss_grid_gptj = regressionLoss(gptj_grid_y, y_grid, metric, True)\n",
    "#                 data_json['loss_grid_gptj'] = loss_grid_gptj\n",
    "\n",
    "            with open(file,'w') as fp:\n",
    "                json.dump(data_json, fp, cls=NpEncoder)\n",
    "    head_tail = os.path.split(file_path)\n",
    "    if len(all_acc_syn) > 0:\n",
    "        all_acc_syn = pd.DataFrame(all_acc_syn)\n",
    "        \n",
    "        if grid_loss:\n",
    "            columns = []\n",
    "            for b in baseline_list:\n",
    "                columns += ['%s_loss' % b, '%s_loss_grid' % b, '%s_loss_woe' %b] \n",
    "            all_acc_syn.columns = ['noise_level', 'function', 'p', 'integer', '(lb,ub)', 'n_train', 'n_valid', 'n_test'] + columns + ['num_valids', 'loss', 'loss_woo', 'num_o', 'num_valid_grid','loss_grid', 'num_valid_grid_woe', 'loss_grid_woe', 'loss_grid_gptj']\n",
    "        else:\n",
    "            columns = []\n",
    "            for b in baseline_list:\n",
    "                columns += ['%s_loss' % b] \n",
    "            all_acc_syn.columns = ['noise_level', 'function', 'p', 'integer', '(lb,ub)', 'n_train', 'n_valid', 'n_test'] + columns + ['num_valids', 'loss', 'loss_woo', 'num_o']\n",
    "            \n",
    "        all_acc_syn.to_csv(os.path.join(head_tail[0], 'syn_'+head_tail[1]))\n",
    "    if len(all_acc_real) > 0:\n",
    "        columns = []\n",
    "        for b in baseline_list:\n",
    "            columns += ['%s_loss' % b] \n",
    "        all_acc_real = pd.DataFrame(all_acc_real)\n",
    "        all_acc_real.columns = ['dataset', 'pc_train', 'context'] + columns + ['num_valids','loss','loss_woo','num_o']\n",
    "        all_acc_real.to_csv(os.path.join(head_tail[0], 'real_'+head_tail[1]))"
   ]
  },
  {
   "cell_type": "code",
   "execution_count": 86,
   "id": "a5525d8e",
   "metadata": {},
   "outputs": [],
   "source": [
    "file_list = ['results/data_1/ccpp_fn_60_all.json',\n",
    " 'results/data_1/insurance_fn_60_all.json',\n",
    " 'results/data_1/insurance_fn_full_all.json',\n",
    " 'results/data_1/insurance_full_all.json',\n",
    " 'results/data_1/servo_full_all.json',\n",
    " 'results/data_1/servo_fn_60_all.json',\n",
    " 'results/data_1/servo_20_all.json',\n",
    " 'results/data_1/insurance_60_all.json',\n",
    " 'results/data_1/insurance_fn_40_all.json',\n",
    " 'results/data_1/servo_fn_80_all.json',\n",
    " 'results/data_1/ccpp_60_all.json',\n",
    " 'results/data_1/servo_60_all.json',\n",
    " 'results/data_1/ccpp_full_all.json',\n",
    " 'results/data_1/ccpp_fn_20_all.json',\n",
    " 'results/data_1/servo_fn_full_all.json',\n",
    " 'results/data_1/ccpp_fn_80_all.json',\n",
    " 'results/data_1/ccpp_40_all.json',\n",
    " 'results/data_1/servo_40_all.json',\n",
    " 'results/data_1/servo_fn_20_all.json',\n",
    " 'results/data_1/ccpp_fn_40_all.json',\n",
    " 'results/data_1/servo_fn_40_all.json',\n",
    " 'results/data_1/insurance_fn_20_all.json',\n",
    " 'results/data_1/insurance_fn_80_all.json',\n",
    " 'results/data_1/ccpp_20_all.json',\n",
    " 'results/data_1/ccpp_fn_full_all.json',\n",
    " 'results/data_1/insurance_80_all.json',\n",
    " 'results/data_1/servo_80_all.json',\n",
    " 'results/data_1/insurance_40_all.json',\n",
    " 'results/data_1/ccpp_80_all.json',\n",
    " 'results/data_1/insurance_20_all.json']"
   ]
  },
  {
   "cell_type": "code",
   "execution_count": 87,
   "id": "d7763921",
   "metadata": {},
   "outputs": [
    {
     "name": "stdout",
     "output_type": "stream",
     "text": [
      "----------------------------1------------------------------\n",
      "file path:  results/data_1/ccpp_fn_60_all.json\n",
      "PR RAE: 0.22\n",
      "KRR RAE: 24.51\n",
      "KNN RAE: 0.49\n",
      "NN RAE: 0.31\n",
      "XG RAE: 0.18\n",
      "RF RAE: 0.22\n",
      "GP RAE: 0.71\n",
      "(1436,)\n",
      "(1436,)\n",
      "RAE     : 0.2200\n",
      "RAE(woo): 0.2158   #outlier:  3}\n",
      "----------------------------2------------------------------\n",
      "file path:  results/data_1/insurance_fn_60_all.json\n",
      "PR RAE: 0.42\n",
      "KRR RAE: 1.39\n",
      "KNN RAE: 1.00\n"
     ]
    },
    {
     "name": "stderr",
     "output_type": "stream",
     "text": [
      "/opt/conda/lib/python3.8/site-packages/sklearn/neural_network/_multilayer_perceptron.py:692: ConvergenceWarning: Stochastic Optimizer: Maximum iterations (500) reached and the optimization hasn't converged yet.\n",
      "  warnings.warn(\n",
      "/opt/conda/lib/python3.8/site-packages/sklearn/neural_network/_multilayer_perceptron.py:692: ConvergenceWarning: Stochastic Optimizer: Maximum iterations (500) reached and the optimization hasn't converged yet.\n",
      "  warnings.warn(\n"
     ]
    },
    {
     "name": "stdout",
     "output_type": "stream",
     "text": [
      "NN RAE: 0.37\n",
      "XG RAE: 0.25\n",
      "RF RAE: 0.24\n"
     ]
    },
    {
     "name": "stderr",
     "output_type": "stream",
     "text": [
      "/opt/conda/lib/python3.8/site-packages/sklearn/gaussian_process/kernels.py:430: ConvergenceWarning: The optimal value found for dimension 0 of parameter k1__constant_value is close to the specified upper bound 100000.0. Increasing the bound and calling fit again may find a better value.\n",
      "  warnings.warn(\n",
      "/opt/conda/lib/python3.8/site-packages/sklearn/gaussian_process/kernels.py:430: ConvergenceWarning: The optimal value found for dimension 0 of parameter k1__constant_value is close to the specified upper bound 100000.0. Increasing the bound and calling fit again may find a better value.\n",
      "  warnings.warn(\n"
     ]
    },
    {
     "name": "stdout",
     "output_type": "stream",
     "text": [
      "GP RAE: 1.25\n",
      "(201,)\n",
      "(201,)\n",
      "RAE     : 0.1870\n",
      "RAE(woo): 0.1870   #outlier:  0}\n",
      "----------------------------3------------------------------\n",
      "file path:  results/data_1/insurance_fn_full_all.json\n",
      "PR RAE: 0.32\n",
      "KRR RAE: 1.39\n",
      "KNN RAE: 1.00\n"
     ]
    },
    {
     "name": "stderr",
     "output_type": "stream",
     "text": [
      "/opt/conda/lib/python3.8/site-packages/sklearn/neural_network/_multilayer_perceptron.py:692: ConvergenceWarning: Stochastic Optimizer: Maximum iterations (500) reached and the optimization hasn't converged yet.\n",
      "  warnings.warn(\n"
     ]
    },
    {
     "name": "stdout",
     "output_type": "stream",
     "text": [
      "NN RAE: 0.36\n",
      "XG RAE: 0.25\n",
      "RF RAE: 0.25\n"
     ]
    },
    {
     "name": "stderr",
     "output_type": "stream",
     "text": [
      "/opt/conda/lib/python3.8/site-packages/sklearn/gaussian_process/kernels.py:430: ConvergenceWarning: The optimal value found for dimension 0 of parameter k1__constant_value is close to the specified upper bound 100000.0. Increasing the bound and calling fit again may find a better value.\n",
      "  warnings.warn(\n",
      "/opt/conda/lib/python3.8/site-packages/sklearn/gaussian_process/kernels.py:430: ConvergenceWarning: The optimal value found for dimension 0 of parameter k1__constant_value is close to the specified upper bound 100000.0. Increasing the bound and calling fit again may find a better value.\n",
      "  warnings.warn(\n"
     ]
    },
    {
     "name": "stdout",
     "output_type": "stream",
     "text": [
      "GP RAE: 1.22\n",
      "(201,)\n",
      "(201,)\n",
      "RAE     : 0.1921\n",
      "RAE(woo): 0.1618   #outlier:  2}\n",
      "----------------------------4------------------------------\n",
      "file path:  results/data_1/insurance_full_all.json\n",
      "PR RAE: 0.32\n",
      "KRR RAE: 1.39\n",
      "KNN RAE: 1.00\n"
     ]
    },
    {
     "name": "stderr",
     "output_type": "stream",
     "text": [
      "/opt/conda/lib/python3.8/site-packages/sklearn/neural_network/_multilayer_perceptron.py:692: ConvergenceWarning: Stochastic Optimizer: Maximum iterations (500) reached and the optimization hasn't converged yet.\n",
      "  warnings.warn(\n"
     ]
    },
    {
     "name": "stdout",
     "output_type": "stream",
     "text": [
      "NN RAE: 0.36\n",
      "XG RAE: 0.25\n",
      "RF RAE: 0.25\n"
     ]
    },
    {
     "name": "stderr",
     "output_type": "stream",
     "text": [
      "/opt/conda/lib/python3.8/site-packages/sklearn/gaussian_process/kernels.py:430: ConvergenceWarning: The optimal value found for dimension 0 of parameter k1__constant_value is close to the specified upper bound 100000.0. Increasing the bound and calling fit again may find a better value.\n",
      "  warnings.warn(\n",
      "/opt/conda/lib/python3.8/site-packages/sklearn/gaussian_process/kernels.py:430: ConvergenceWarning: The optimal value found for dimension 0 of parameter k1__constant_value is close to the specified upper bound 100000.0. Increasing the bound and calling fit again may find a better value.\n",
      "  warnings.warn(\n"
     ]
    },
    {
     "name": "stdout",
     "output_type": "stream",
     "text": [
      "GP RAE: 1.22\n",
      "(201,)\n",
      "(201,)\n",
      "RAE     : 0.1707\n",
      "RAE(woo): 0.1586   #outlier:  1}\n",
      "----------------------------5------------------------------\n",
      "file path:  results/data_1/servo_full_all.json\n",
      "PR RAE: 0.92\n",
      "KRR RAE: 0.95\n",
      "KNN RAE: 0.86\n"
     ]
    },
    {
     "name": "stderr",
     "output_type": "stream",
     "text": [
      "/opt/conda/lib/python3.8/site-packages/sklearn/neural_network/_multilayer_perceptron.py:692: ConvergenceWarning: Stochastic Optimizer: Maximum iterations (500) reached and the optimization hasn't converged yet.\n",
      "  warnings.warn(\n"
     ]
    },
    {
     "name": "stdout",
     "output_type": "stream",
     "text": [
      "NN RAE: 0.82\n",
      "XG RAE: 0.25\n",
      "RF RAE: 0.25\n",
      "GP RAE: 1.03\n",
      "(26,)\n",
      "(26,)\n",
      "RAE     : 0.3898\n",
      "RAE(woo): 0.3898   #outlier:  0}\n",
      "----------------------------6------------------------------\n",
      "file path:  results/data_1/servo_fn_60_all.json\n",
      "PR RAE: 1.82\n",
      "KRR RAE: 0.95\n",
      "KNN RAE: 0.86\n"
     ]
    },
    {
     "name": "stderr",
     "output_type": "stream",
     "text": [
      "/opt/conda/lib/python3.8/site-packages/sklearn/neural_network/_multilayer_perceptron.py:692: ConvergenceWarning: Stochastic Optimizer: Maximum iterations (500) reached and the optimization hasn't converged yet.\n",
      "  warnings.warn(\n",
      "/opt/conda/lib/python3.8/site-packages/sklearn/neural_network/_multilayer_perceptron.py:692: ConvergenceWarning: Stochastic Optimizer: Maximum iterations (500) reached and the optimization hasn't converged yet.\n",
      "  warnings.warn(\n"
     ]
    },
    {
     "name": "stdout",
     "output_type": "stream",
     "text": [
      "NN RAE: 0.88\n",
      "XG RAE: 0.36\n",
      "RF RAE: 0.33\n",
      "GP RAE: 1.03\n",
      "(26,)\n",
      "(26,)\n",
      "RAE     : 0.4432\n",
      "RAE(woo): 0.4432   #outlier:  0}\n",
      "----------------------------7------------------------------\n",
      "file path:  results/data_1/servo_20_all.json\n",
      "PR RAE: 4.21\n",
      "KRR RAE: 0.95\n",
      "KNN RAE: 0.92\n"
     ]
    },
    {
     "name": "stderr",
     "output_type": "stream",
     "text": [
      "/opt/conda/lib/python3.8/site-packages/sklearn/neural_network/_multilayer_perceptron.py:692: ConvergenceWarning: Stochastic Optimizer: Maximum iterations (500) reached and the optimization hasn't converged yet.\n",
      "  warnings.warn(\n"
     ]
    },
    {
     "name": "stdout",
     "output_type": "stream",
     "text": [
      "NN RAE: 0.97\n",
      "XG RAE: 0.45\n",
      "RF RAE: 0.47\n",
      "GP RAE: 1.05\n",
      "(26,)\n",
      "(26,)\n",
      "RAE     : 0.8072\n",
      "RAE(woo): 0.8072   #outlier:  0}\n",
      "----------------------------8------------------------------\n",
      "file path:  results/data_1/insurance_60_all.json\n",
      "PR RAE: 0.42\n",
      "KRR RAE: 1.39\n",
      "KNN RAE: 1.00\n"
     ]
    },
    {
     "name": "stderr",
     "output_type": "stream",
     "text": [
      "/opt/conda/lib/python3.8/site-packages/sklearn/neural_network/_multilayer_perceptron.py:692: ConvergenceWarning: Stochastic Optimizer: Maximum iterations (500) reached and the optimization hasn't converged yet.\n",
      "  warnings.warn(\n",
      "/opt/conda/lib/python3.8/site-packages/sklearn/neural_network/_multilayer_perceptron.py:692: ConvergenceWarning: Stochastic Optimizer: Maximum iterations (500) reached and the optimization hasn't converged yet.\n",
      "  warnings.warn(\n"
     ]
    },
    {
     "name": "stdout",
     "output_type": "stream",
     "text": [
      "NN RAE: 0.37\n",
      "XG RAE: 0.25\n",
      "RF RAE: 0.24\n"
     ]
    },
    {
     "name": "stderr",
     "output_type": "stream",
     "text": [
      "/opt/conda/lib/python3.8/site-packages/sklearn/gaussian_process/kernels.py:430: ConvergenceWarning: The optimal value found for dimension 0 of parameter k1__constant_value is close to the specified upper bound 100000.0. Increasing the bound and calling fit again may find a better value.\n",
      "  warnings.warn(\n",
      "/opt/conda/lib/python3.8/site-packages/sklearn/gaussian_process/kernels.py:430: ConvergenceWarning: The optimal value found for dimension 0 of parameter k1__constant_value is close to the specified upper bound 100000.0. Increasing the bound and calling fit again may find a better value.\n",
      "  warnings.warn(\n"
     ]
    },
    {
     "name": "stdout",
     "output_type": "stream",
     "text": [
      "GP RAE: 1.25\n",
      "(201,)\n",
      "(201,)\n",
      "RAE     : 0.4441\n",
      "RAE(woo): 0.4441   #outlier:  0}\n",
      "----------------------------9------------------------------\n",
      "file path:  results/data_1/insurance_fn_40_all.json\n",
      "PR RAE: 0.46\n",
      "KRR RAE: 1.39\n",
      "KNN RAE: 1.00\n"
     ]
    },
    {
     "name": "stderr",
     "output_type": "stream",
     "text": [
      "/opt/conda/lib/python3.8/site-packages/sklearn/neural_network/_multilayer_perceptron.py:692: ConvergenceWarning: Stochastic Optimizer: Maximum iterations (500) reached and the optimization hasn't converged yet.\n",
      "  warnings.warn(\n",
      "/opt/conda/lib/python3.8/site-packages/sklearn/neural_network/_multilayer_perceptron.py:692: ConvergenceWarning: Stochastic Optimizer: Maximum iterations (500) reached and the optimization hasn't converged yet.\n",
      "  warnings.warn(\n"
     ]
    },
    {
     "name": "stdout",
     "output_type": "stream",
     "text": [
      "NN RAE: 0.41\n",
      "XG RAE: 0.26\n",
      "RF RAE: 0.24\n"
     ]
    },
    {
     "name": "stderr",
     "output_type": "stream",
     "text": [
      "/opt/conda/lib/python3.8/site-packages/sklearn/gaussian_process/kernels.py:430: ConvergenceWarning: The optimal value found for dimension 0 of parameter k1__constant_value is close to the specified upper bound 100000.0. Increasing the bound and calling fit again may find a better value.\n",
      "  warnings.warn(\n",
      "/opt/conda/lib/python3.8/site-packages/sklearn/gaussian_process/kernels.py:430: ConvergenceWarning: The optimal value found for dimension 0 of parameter k1__constant_value is close to the specified upper bound 100000.0. Increasing the bound and calling fit again may find a better value.\n",
      "  warnings.warn(\n"
     ]
    },
    {
     "name": "stdout",
     "output_type": "stream",
     "text": [
      "GP RAE: 1.25\n",
      "(201,)\n",
      "(201,)\n",
      "RAE     : 0.2419\n",
      "RAE(woo): 0.2150   #outlier:  2}\n",
      "----------------------------10------------------------------\n",
      "file path:  results/data_1/servo_fn_80_all.json\n",
      "PR RAE: 1.82\n",
      "KRR RAE: 0.95\n",
      "KNN RAE: 0.86\n"
     ]
    },
    {
     "name": "stderr",
     "output_type": "stream",
     "text": [
      "/opt/conda/lib/python3.8/site-packages/sklearn/neural_network/_multilayer_perceptron.py:692: ConvergenceWarning: Stochastic Optimizer: Maximum iterations (500) reached and the optimization hasn't converged yet.\n",
      "  warnings.warn(\n",
      "/opt/conda/lib/python3.8/site-packages/sklearn/neural_network/_multilayer_perceptron.py:692: ConvergenceWarning: Stochastic Optimizer: Maximum iterations (500) reached and the optimization hasn't converged yet.\n",
      "  warnings.warn(\n"
     ]
    },
    {
     "name": "stdout",
     "output_type": "stream",
     "text": [
      "NN RAE: 0.88\n",
      "XG RAE: 0.37\n",
      "RF RAE: 0.33\n",
      "GP RAE: 1.03\n",
      "(26,)\n",
      "(26,)\n",
      "RAE     : 0.3958\n",
      "RAE(woo): 0.3958   #outlier:  0}\n",
      "----------------------------11------------------------------\n",
      "file path:  results/data_1/ccpp_60_all.json\n",
      "PR RAE: 0.22\n",
      "KRR RAE: 24.51\n",
      "KNN RAE: 0.49\n",
      "NN RAE: 0.31\n",
      "XG RAE: 0.18\n",
      "RF RAE: 0.22\n",
      "GP RAE: 0.71\n",
      "(1436,)\n",
      "(1436,)\n",
      "RAE     : 0.4173\n",
      "RAE(woo): 0.2572   #outlier:  2}\n",
      "----------------------------12------------------------------\n",
      "file path:  results/data_1/servo_60_all.json\n",
      "PR RAE: 1.82\n",
      "KRR RAE: 0.95\n",
      "KNN RAE: 0.86\n"
     ]
    },
    {
     "name": "stderr",
     "output_type": "stream",
     "text": [
      "/opt/conda/lib/python3.8/site-packages/sklearn/neural_network/_multilayer_perceptron.py:692: ConvergenceWarning: Stochastic Optimizer: Maximum iterations (500) reached and the optimization hasn't converged yet.\n",
      "  warnings.warn(\n",
      "/opt/conda/lib/python3.8/site-packages/sklearn/neural_network/_multilayer_perceptron.py:692: ConvergenceWarning: Stochastic Optimizer: Maximum iterations (500) reached and the optimization hasn't converged yet.\n",
      "  warnings.warn(\n"
     ]
    },
    {
     "name": "stdout",
     "output_type": "stream",
     "text": [
      "NN RAE: 0.88\n",
      "XG RAE: 0.36\n",
      "RF RAE: 0.33\n",
      "GP RAE: 1.03\n",
      "(26,)\n",
      "(26,)\n",
      "RAE     : 0.3538\n",
      "RAE(woo): 0.3538   #outlier:  0}\n",
      "----------------------------13------------------------------\n",
      "file path:  results/data_1/ccpp_full_all.json\n",
      "PR RAE: 0.22\n",
      "KRR RAE: 21.60\n",
      "KNN RAE: 0.45\n",
      "NN RAE: 0.30\n",
      "XG RAE: 0.17\n",
      "RF RAE: 0.21\n",
      "GP RAE: 0.69\n",
      "(1436,)\n",
      "(1436,)\n",
      "RAE     : 0.2318\n",
      "RAE(woo): 0.1722   #outlier:  3}\n",
      "----------------------------14------------------------------\n",
      "file path:  results/data_1/ccpp_fn_20_all.json\n",
      "PR RAE: 0.23\n",
      "KRR RAE: 28.48\n",
      "KNN RAE: 0.62\n"
     ]
    },
    {
     "name": "stderr",
     "output_type": "stream",
     "text": [
      "/opt/conda/lib/python3.8/site-packages/sklearn/neural_network/_multilayer_perceptron.py:692: ConvergenceWarning: Stochastic Optimizer: Maximum iterations (500) reached and the optimization hasn't converged yet.\n",
      "  warnings.warn(\n"
     ]
    },
    {
     "name": "stdout",
     "output_type": "stream",
     "text": [
      "NN RAE: 0.35\n",
      "XG RAE: 0.22\n",
      "RF RAE: 0.23\n"
     ]
    },
    {
     "name": "stderr",
     "output_type": "stream",
     "text": [
      "/opt/conda/lib/python3.8/site-packages/sklearn/gaussian_process/kernels.py:430: ConvergenceWarning: The optimal value found for dimension 0 of parameter k1__constant_value is close to the specified upper bound 100000.0. Increasing the bound and calling fit again may find a better value.\n",
      "  warnings.warn(\n"
     ]
    },
    {
     "name": "stdout",
     "output_type": "stream",
     "text": [
      "GP RAE: 0.66\n",
      "(1436,)\n",
      "(1436,)\n",
      "RAE     : 0.2502\n",
      "RAE(woo): 0.2491   #outlier:  1}\n",
      "----------------------------15------------------------------\n",
      "file path:  results/data_1/servo_fn_full_all.json\n",
      "PR RAE: 0.92\n",
      "KRR RAE: 0.95\n",
      "KNN RAE: 0.86\n"
     ]
    },
    {
     "name": "stderr",
     "output_type": "stream",
     "text": [
      "/opt/conda/lib/python3.8/site-packages/sklearn/neural_network/_multilayer_perceptron.py:692: ConvergenceWarning: Stochastic Optimizer: Maximum iterations (500) reached and the optimization hasn't converged yet.\n",
      "  warnings.warn(\n"
     ]
    },
    {
     "name": "stdout",
     "output_type": "stream",
     "text": [
      "NN RAE: 0.82\n",
      "XG RAE: 0.25\n",
      "RF RAE: 0.25\n",
      "GP RAE: 1.03\n",
      "(26,)\n",
      "(26,)\n",
      "RAE     : 0.3204\n",
      "RAE(woo): 0.3204   #outlier:  0}\n",
      "----------------------------16------------------------------\n",
      "file path:  results/data_1/ccpp_fn_80_all.json\n",
      "PR RAE: 0.22\n",
      "KRR RAE: 24.51\n",
      "KNN RAE: 0.49\n",
      "NN RAE: 0.31\n",
      "XG RAE: 0.18\n",
      "RF RAE: 0.22\n",
      "GP RAE: 0.71\n",
      "(1436,)\n",
      "(1436,)\n",
      "RAE     : 0.2293\n",
      "RAE(woo): 0.2268   #outlier:  2}\n",
      "----------------------------17------------------------------\n",
      "file path:  results/data_1/ccpp_40_all.json\n",
      "PR RAE: 0.23\n",
      "KRR RAE: 26.27\n",
      "KNN RAE: 0.54\n",
      "NN RAE: 0.31\n",
      "XG RAE: 0.20\n",
      "RF RAE: 0.22\n",
      "GP RAE: 0.66\n",
      "(1436,)\n",
      "(1436,)\n",
      "RAE     : 0.2558\n",
      "RAE(woo): 0.2364   #outlier:  1}\n",
      "----------------------------18------------------------------\n",
      "file path:  results/data_1/servo_40_all.json\n",
      "PR RAE: 1.87\n",
      "KRR RAE: 0.95\n",
      "KNN RAE: 0.86\n"
     ]
    },
    {
     "name": "stderr",
     "output_type": "stream",
     "text": [
      "/opt/conda/lib/python3.8/site-packages/sklearn/neural_network/_multilayer_perceptron.py:692: ConvergenceWarning: Stochastic Optimizer: Maximum iterations (500) reached and the optimization hasn't converged yet.\n",
      "  warnings.warn(\n"
     ]
    },
    {
     "name": "stdout",
     "output_type": "stream",
     "text": [
      "NN RAE: 0.84\n",
      "XG RAE: 0.39\n",
      "RF RAE: 0.40\n",
      "GP RAE: 1.03\n",
      "(26,)\n",
      "(26,)\n",
      "RAE     : 0.5826\n",
      "RAE(woo): 0.5826   #outlier:  0}\n",
      "----------------------------19------------------------------\n",
      "file path:  results/data_1/servo_fn_20_all.json\n",
      "PR RAE: 4.21\n",
      "KRR RAE: 0.95\n",
      "KNN RAE: 0.92\n"
     ]
    },
    {
     "name": "stderr",
     "output_type": "stream",
     "text": [
      "/opt/conda/lib/python3.8/site-packages/sklearn/neural_network/_multilayer_perceptron.py:692: ConvergenceWarning: Stochastic Optimizer: Maximum iterations (500) reached and the optimization hasn't converged yet.\n",
      "  warnings.warn(\n"
     ]
    },
    {
     "name": "stdout",
     "output_type": "stream",
     "text": [
      "NN RAE: 0.97\n",
      "XG RAE: 0.45\n",
      "RF RAE: 0.47\n",
      "GP RAE: 1.05\n",
      "(26,)\n",
      "(26,)\n",
      "RAE     : 0.8140\n",
      "RAE(woo): 0.8140   #outlier:  0}\n",
      "----------------------------20------------------------------\n",
      "file path:  results/data_1/ccpp_fn_40_all.json\n",
      "PR RAE: 0.23\n",
      "KRR RAE: 26.27\n",
      "KNN RAE: 0.54\n",
      "NN RAE: 0.31\n",
      "XG RAE: 0.19\n",
      "RF RAE: 0.22\n",
      "GP RAE: 0.66\n",
      "(1436,)\n",
      "(1436,)\n",
      "RAE     : 0.2359\n",
      "RAE(woo): 0.2306   #outlier:  4}\n",
      "----------------------------21------------------------------\n",
      "file path:  results/data_1/servo_fn_40_all.json\n",
      "PR RAE: 1.87\n",
      "KRR RAE: 0.95\n",
      "KNN RAE: 0.86\n"
     ]
    },
    {
     "name": "stderr",
     "output_type": "stream",
     "text": [
      "/opt/conda/lib/python3.8/site-packages/sklearn/neural_network/_multilayer_perceptron.py:692: ConvergenceWarning: Stochastic Optimizer: Maximum iterations (500) reached and the optimization hasn't converged yet.\n",
      "  warnings.warn(\n"
     ]
    },
    {
     "name": "stdout",
     "output_type": "stream",
     "text": [
      "NN RAE: 0.84\n",
      "XG RAE: 0.39\n",
      "RF RAE: 0.40\n",
      "GP RAE: 1.03\n",
      "(26,)\n",
      "(26,)\n",
      "RAE     : 0.5114\n",
      "RAE(woo): 0.5114   #outlier:  0}\n",
      "----------------------------22------------------------------\n",
      "file path:  results/data_1/insurance_fn_20_all.json\n",
      "PR RAE: 1.58\n",
      "KRR RAE: 1.39\n",
      "KNN RAE: 0.98\n"
     ]
    },
    {
     "name": "stderr",
     "output_type": "stream",
     "text": [
      "/opt/conda/lib/python3.8/site-packages/sklearn/neural_network/_multilayer_perceptron.py:692: ConvergenceWarning: Stochastic Optimizer: Maximum iterations (500) reached and the optimization hasn't converged yet.\n",
      "  warnings.warn(\n",
      "/opt/conda/lib/python3.8/site-packages/sklearn/neural_network/_multilayer_perceptron.py:692: ConvergenceWarning: Stochastic Optimizer: Maximum iterations (500) reached and the optimization hasn't converged yet.\n",
      "  warnings.warn(\n"
     ]
    },
    {
     "name": "stdout",
     "output_type": "stream",
     "text": [
      "NN RAE: 0.51\n",
      "XG RAE: 0.30\n",
      "RF RAE: 0.26\n"
     ]
    },
    {
     "name": "stderr",
     "output_type": "stream",
     "text": [
      "/opt/conda/lib/python3.8/site-packages/sklearn/gaussian_process/kernels.py:430: ConvergenceWarning: The optimal value found for dimension 0 of parameter k1__constant_value is close to the specified upper bound 100000.0. Increasing the bound and calling fit again may find a better value.\n",
      "  warnings.warn(\n",
      "/opt/conda/lib/python3.8/site-packages/sklearn/gaussian_process/kernels.py:430: ConvergenceWarning: The optimal value found for dimension 0 of parameter k1__constant_value is close to the specified upper bound 100000.0. Increasing the bound and calling fit again may find a better value.\n",
      "  warnings.warn(\n"
     ]
    },
    {
     "name": "stdout",
     "output_type": "stream",
     "text": [
      "GP RAE: 1.32\n",
      "(201,)\n",
      "(201,)\n",
      "RAE     : 0.8957\n",
      "RAE(woo): 0.8957   #outlier:  0}\n",
      "----------------------------23------------------------------\n",
      "file path:  results/data_1/insurance_fn_80_all.json\n",
      "PR RAE: 0.33\n",
      "KRR RAE: 1.39\n",
      "KNN RAE: 1.00\n"
     ]
    },
    {
     "name": "stderr",
     "output_type": "stream",
     "text": [
      "/opt/conda/lib/python3.8/site-packages/sklearn/neural_network/_multilayer_perceptron.py:692: ConvergenceWarning: Stochastic Optimizer: Maximum iterations (500) reached and the optimization hasn't converged yet.\n",
      "  warnings.warn(\n",
      "/opt/conda/lib/python3.8/site-packages/sklearn/neural_network/_multilayer_perceptron.py:692: ConvergenceWarning: Stochastic Optimizer: Maximum iterations (500) reached and the optimization hasn't converged yet.\n",
      "  warnings.warn(\n"
     ]
    },
    {
     "name": "stdout",
     "output_type": "stream",
     "text": [
      "NN RAE: 0.36\n",
      "XG RAE: 0.25\n",
      "RF RAE: 0.24\n"
     ]
    },
    {
     "name": "stderr",
     "output_type": "stream",
     "text": [
      "/opt/conda/lib/python3.8/site-packages/sklearn/gaussian_process/kernels.py:430: ConvergenceWarning: The optimal value found for dimension 0 of parameter k1__constant_value is close to the specified upper bound 100000.0. Increasing the bound and calling fit again may find a better value.\n",
      "  warnings.warn(\n",
      "/opt/conda/lib/python3.8/site-packages/sklearn/gaussian_process/kernels.py:430: ConvergenceWarning: The optimal value found for dimension 0 of parameter k1__constant_value is close to the specified upper bound 100000.0. Increasing the bound and calling fit again may find a better value.\n",
      "  warnings.warn(\n"
     ]
    },
    {
     "name": "stdout",
     "output_type": "stream",
     "text": [
      "GP RAE: 1.23\n",
      "(201,)\n",
      "(201,)\n",
      "RAE     : 0.1885\n",
      "RAE(woo): 0.1726   #outlier:  1}\n",
      "----------------------------24------------------------------\n",
      "file path:  results/data_1/ccpp_20_all.json\n",
      "PR RAE: 0.23\n",
      "KRR RAE: 28.48\n",
      "KNN RAE: 0.62\n"
     ]
    },
    {
     "name": "stderr",
     "output_type": "stream",
     "text": [
      "/opt/conda/lib/python3.8/site-packages/sklearn/neural_network/_multilayer_perceptron.py:692: ConvergenceWarning: Stochastic Optimizer: Maximum iterations (500) reached and the optimization hasn't converged yet.\n",
      "  warnings.warn(\n"
     ]
    },
    {
     "name": "stdout",
     "output_type": "stream",
     "text": [
      "NN RAE: 0.35\n",
      "XG RAE: 0.22\n",
      "RF RAE: 0.23\n"
     ]
    },
    {
     "name": "stderr",
     "output_type": "stream",
     "text": [
      "/opt/conda/lib/python3.8/site-packages/sklearn/gaussian_process/kernels.py:430: ConvergenceWarning: The optimal value found for dimension 0 of parameter k1__constant_value is close to the specified upper bound 100000.0. Increasing the bound and calling fit again may find a better value.\n",
      "  warnings.warn(\n"
     ]
    },
    {
     "name": "stdout",
     "output_type": "stream",
     "text": [
      "GP RAE: 0.66\n",
      "(1436,)\n",
      "(1436,)\n",
      "RAE     : 0.2607\n",
      "RAE(woo): 0.2593   #outlier:  1}\n",
      "----------------------------25------------------------------\n",
      "file path:  results/data_1/ccpp_fn_full_all.json\n",
      "PR RAE: 0.22\n",
      "KRR RAE: 21.60\n",
      "KNN RAE: 0.45\n",
      "NN RAE: 0.30\n",
      "XG RAE: 0.17\n",
      "RF RAE: 0.21\n",
      "GP RAE: 0.69\n",
      "(1436,)\n",
      "(1436,)\n",
      "RAE     : 0.2183\n",
      "RAE(woo): 0.2144   #outlier:  3}\n",
      "----------------------------26------------------------------\n",
      "file path:  results/data_1/insurance_80_all.json\n",
      "PR RAE: 0.33\n",
      "KRR RAE: 1.39\n",
      "KNN RAE: 1.00\n"
     ]
    },
    {
     "name": "stderr",
     "output_type": "stream",
     "text": [
      "/opt/conda/lib/python3.8/site-packages/sklearn/neural_network/_multilayer_perceptron.py:692: ConvergenceWarning: Stochastic Optimizer: Maximum iterations (500) reached and the optimization hasn't converged yet.\n",
      "  warnings.warn(\n",
      "/opt/conda/lib/python3.8/site-packages/sklearn/neural_network/_multilayer_perceptron.py:692: ConvergenceWarning: Stochastic Optimizer: Maximum iterations (500) reached and the optimization hasn't converged yet.\n",
      "  warnings.warn(\n"
     ]
    },
    {
     "name": "stdout",
     "output_type": "stream",
     "text": [
      "NN RAE: 0.36\n",
      "XG RAE: 0.25\n",
      "RF RAE: 0.24\n"
     ]
    },
    {
     "name": "stderr",
     "output_type": "stream",
     "text": [
      "/opt/conda/lib/python3.8/site-packages/sklearn/gaussian_process/kernels.py:430: ConvergenceWarning: The optimal value found for dimension 0 of parameter k1__constant_value is close to the specified upper bound 100000.0. Increasing the bound and calling fit again may find a better value.\n",
      "  warnings.warn(\n",
      "/opt/conda/lib/python3.8/site-packages/sklearn/gaussian_process/kernels.py:430: ConvergenceWarning: The optimal value found for dimension 0 of parameter k1__constant_value is close to the specified upper bound 100000.0. Increasing the bound and calling fit again may find a better value.\n",
      "  warnings.warn(\n"
     ]
    },
    {
     "name": "stdout",
     "output_type": "stream",
     "text": [
      "GP RAE: 1.23\n",
      "(201,)\n",
      "(201,)\n",
      "RAE     : 0.3400\n",
      "RAE(woo): 0.3400   #outlier:  0}\n",
      "----------------------------27------------------------------\n",
      "file path:  results/data_1/servo_80_all.json\n",
      "PR RAE: 1.82\n",
      "KRR RAE: 0.95\n",
      "KNN RAE: 0.86\n"
     ]
    },
    {
     "name": "stderr",
     "output_type": "stream",
     "text": [
      "/opt/conda/lib/python3.8/site-packages/sklearn/neural_network/_multilayer_perceptron.py:692: ConvergenceWarning: Stochastic Optimizer: Maximum iterations (500) reached and the optimization hasn't converged yet.\n",
      "  warnings.warn(\n",
      "/opt/conda/lib/python3.8/site-packages/sklearn/neural_network/_multilayer_perceptron.py:692: ConvergenceWarning: Stochastic Optimizer: Maximum iterations (500) reached and the optimization hasn't converged yet.\n",
      "  warnings.warn(\n"
     ]
    },
    {
     "name": "stdout",
     "output_type": "stream",
     "text": [
      "NN RAE: 0.88\n",
      "XG RAE: 0.37\n",
      "RF RAE: 0.33\n",
      "GP RAE: 1.03\n",
      "(26,)\n",
      "(26,)\n",
      "RAE     : 0.4375\n",
      "RAE(woo): 0.4375   #outlier:  0}\n",
      "----------------------------28------------------------------\n",
      "file path:  results/data_1/insurance_40_all.json\n",
      "PR RAE: 0.46\n",
      "KRR RAE: 1.39\n",
      "KNN RAE: 1.00\n"
     ]
    },
    {
     "name": "stderr",
     "output_type": "stream",
     "text": [
      "/opt/conda/lib/python3.8/site-packages/sklearn/neural_network/_multilayer_perceptron.py:692: ConvergenceWarning: Stochastic Optimizer: Maximum iterations (500) reached and the optimization hasn't converged yet.\n",
      "  warnings.warn(\n",
      "/opt/conda/lib/python3.8/site-packages/sklearn/neural_network/_multilayer_perceptron.py:692: ConvergenceWarning: Stochastic Optimizer: Maximum iterations (500) reached and the optimization hasn't converged yet.\n",
      "  warnings.warn(\n"
     ]
    },
    {
     "name": "stdout",
     "output_type": "stream",
     "text": [
      "NN RAE: 0.41\n",
      "XG RAE: 0.26\n",
      "RF RAE: 0.24\n"
     ]
    },
    {
     "name": "stderr",
     "output_type": "stream",
     "text": [
      "/opt/conda/lib/python3.8/site-packages/sklearn/gaussian_process/kernels.py:430: ConvergenceWarning: The optimal value found for dimension 0 of parameter k1__constant_value is close to the specified upper bound 100000.0. Increasing the bound and calling fit again may find a better value.\n",
      "  warnings.warn(\n",
      "/opt/conda/lib/python3.8/site-packages/sklearn/gaussian_process/kernels.py:430: ConvergenceWarning: The optimal value found for dimension 0 of parameter k1__constant_value is close to the specified upper bound 100000.0. Increasing the bound and calling fit again may find a better value.\n",
      "  warnings.warn(\n"
     ]
    },
    {
     "name": "stdout",
     "output_type": "stream",
     "text": [
      "GP RAE: 1.25\n",
      "(201,)\n",
      "(201,)\n",
      "RAE     : 0.4251\n",
      "RAE(woo): 0.4251   #outlier:  0}\n",
      "----------------------------29------------------------------\n",
      "file path:  results/data_1/ccpp_80_all.json\n",
      "PR RAE: 0.22\n",
      "KRR RAE: 24.51\n",
      "KNN RAE: 0.49\n",
      "NN RAE: 0.31\n",
      "XG RAE: 0.18\n",
      "RF RAE: 0.22\n",
      "GP RAE: 0.71\n",
      "(1436,)\n",
      "(1436,)\n",
      "RAE     : 0.2511\n",
      "RAE(woo): 0.2226   #outlier:  2}\n",
      "----------------------------30------------------------------\n",
      "file path:  results/data_1/insurance_20_all.json\n",
      "PR RAE: 1.58\n",
      "KRR RAE: 1.39\n",
      "KNN RAE: 0.98\n"
     ]
    },
    {
     "name": "stderr",
     "output_type": "stream",
     "text": [
      "/opt/conda/lib/python3.8/site-packages/sklearn/neural_network/_multilayer_perceptron.py:692: ConvergenceWarning: Stochastic Optimizer: Maximum iterations (500) reached and the optimization hasn't converged yet.\n",
      "  warnings.warn(\n",
      "/opt/conda/lib/python3.8/site-packages/sklearn/neural_network/_multilayer_perceptron.py:692: ConvergenceWarning: Stochastic Optimizer: Maximum iterations (500) reached and the optimization hasn't converged yet.\n",
      "  warnings.warn(\n"
     ]
    },
    {
     "name": "stdout",
     "output_type": "stream",
     "text": [
      "NN RAE: 0.51\n",
      "XG RAE: 0.30\n",
      "RF RAE: 0.26\n"
     ]
    },
    {
     "name": "stderr",
     "output_type": "stream",
     "text": [
      "/opt/conda/lib/python3.8/site-packages/sklearn/gaussian_process/kernels.py:430: ConvergenceWarning: The optimal value found for dimension 0 of parameter k1__constant_value is close to the specified upper bound 100000.0. Increasing the bound and calling fit again may find a better value.\n",
      "  warnings.warn(\n"
     ]
    },
    {
     "name": "stdout",
     "output_type": "stream",
     "text": [
      "GP RAE: 1.32\n",
      "(201,)\n",
      "(201,)\n",
      "RAE     : 0.8513\n",
      "RAE(woo): 0.8513   #outlier:  0}\n"
     ]
    },
    {
     "name": "stderr",
     "output_type": "stream",
     "text": [
      "/opt/conda/lib/python3.8/site-packages/sklearn/gaussian_process/kernels.py:430: ConvergenceWarning: The optimal value found for dimension 0 of parameter k1__constant_value is close to the specified upper bound 100000.0. Increasing the bound and calling fit again may find a better value.\n",
      "  warnings.warn(\n"
     ]
    }
   ],
   "source": [
    "save_csv(file_list,  'results/data_1/all_models_acc.csv')"
   ]
  },
  {
   "cell_type": "code",
   "execution_count": null,
   "id": "755dad2e",
   "metadata": {},
   "outputs": [],
   "source": [
    "save_csv(file_list,  'results/data_2/all_models_acc.csv')"
   ]
  },
  {
   "cell_type": "code",
   "execution_count": null,
   "id": "4d5ab2bb",
   "metadata": {},
   "outputs": [],
   "source": [
    "save_csv(file_list,  'results/data_3/all_models_acc.csv')"
   ]
  }
 ],
 "metadata": {
  "kernelspec": {
   "display_name": "Python 3 (ipykernel)",
   "language": "python",
   "name": "python3"
  },
  "language_info": {
   "codemirror_mode": {
    "name": "ipython",
    "version": 3
   },
   "file_extension": ".py",
   "mimetype": "text/x-python",
   "name": "python",
   "nbconvert_exporter": "python",
   "pygments_lexer": "ipython3",
   "version": "3.8.12"
  },
  "toc": {
   "base_numbering": 1,
   "nav_menu": {},
   "number_sections": true,
   "sideBar": true,
   "skip_h1_title": false,
   "title_cell": "Table of Contents",
   "title_sidebar": "Contents",
   "toc_cell": false,
   "toc_position": {},
   "toc_section_display": true,
   "toc_window_display": false
  }
 },
 "nbformat": 4,
 "nbformat_minor": 5
}
