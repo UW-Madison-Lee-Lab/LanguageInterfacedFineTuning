{
 "cells": [
  {
   "cell_type": "code",
   "execution_count": 1,
   "id": "b1db44e6",
   "metadata": {},
   "outputs": [],
   "source": [
    "import os\n",
    "import numpy as np\n",
    "from functools import partial\n",
    "import pandas as pd\n",
    "import random"
   ]
  },
  {
   "cell_type": "code",
   "execution_count": 2,
   "id": "bb81f755",
   "metadata": {},
   "outputs": [],
   "source": [
    "def data2text(row, integer = False, label = True):\n",
    "    prompt = \"When we have \" \n",
    "    for i in range(1,len(row)-label):\n",
    "        if integer:\n",
    "            prompt += \"x%d=%d, \" % (i, row[i])\n",
    "        else:\n",
    "            prompt += \"x%d=%.4f, \" % (i, row[i]) \n",
    "#     print(prompt)\n",
    "    prompt += \"what should be the y value?\"\n",
    "    if not label:\n",
    "        return \"%s###\" % prompt\n",
    "    else:\n",
    "        if integer:\n",
    "            completion = \"%d\" % row['PE']\n",
    "        else:\n",
    "            completion = \"%.4f\" % row['PE']\n",
    "        return \"{\\\"prompt\\\":\\\"%s###\\\", \\\"completion\\\":\\\"%s@@@\\\"}\" % (prompt, completion)\n",
    "\n",
    "def df2jsonl(df, filename, integer = False):\n",
    "    jsonl = '\\n'.join(df.apply(func = partial(data2text, integer = integer), axis = 1).tolist())\n",
    "    with open(os.path.join(filename), 'w') as f:\n",
    "        f.write(jsonl)"
   ]
  },
  {
   "cell_type": "code",
   "execution_count": 3,
   "id": "52c6d24e",
   "metadata": {},
   "outputs": [],
   "source": [
    "\"\"\"\n",
    "When the air temperature is ## celsius degree, \n",
    "ambient pressure is ## millibar,\n",
    "relative humidity is ##%,\n",
    "and exhaust vacuum is ## cm Hg,\n",
    "what's the net hourly electrical energy output?\n",
    "\n",
    "The net hourly electrical energy output is ##\n",
    "\"\"\"\n",
    "def data2text_feature_name(row, integer = False, label = True):\n",
    "    prompt = \"When the air temperature is %.4f celsius degree, \" % row['AT']\n",
    "    prompt += \"ambient pressure is %.4f millibar, \" % row['AP']\n",
    "    prompt += \"relative humidity is %.4f percent, \" % row['RH']\n",
    "    prompt += \"and exhaust vacuum is %.4f cm Hg, \" % row['V']\n",
    "    prompt += \"what's the net hourly electrical energy output in MW?\"\n",
    "    \n",
    "    completion = \"%.4f\" % row['PE']\n",
    "    return \"{\\\"prompt\\\":\\\"%s###\\\", \\\"completion\\\":\\\"%s@@@\\\"}\" % (prompt, completion)\n",
    "\n",
    "def df2jsonl_feature_name(df, filename, integer = False):\n",
    "    jsonl = '\\n'.join(df.apply(func = partial(data2text_feature_name, integer = integer), axis = 1).tolist())\n",
    "    with open(os.path.join(filename), 'w') as f:\n",
    "        f.write(jsonl)"
   ]
  },
  {
   "cell_type": "code",
   "execution_count": 4,
   "id": "d7ce9120",
   "metadata": {},
   "outputs": [
    {
     "name": "stdout",
     "output_type": "stream",
     "text": [
      "Number of total samples: 9568\n",
      "Number of total training samples: 6697\n",
      "Number of 20% training samples: 1339\n",
      "Number of 40% training samples: 2678\n",
      "Number of 60%  training samples: 4018\n",
      "Number of 80%  training samples: 4018\n",
      "Number of validation samples: 1435\n",
      "Number of testing samples: 1436\n"
     ]
    }
   ],
   "source": [
    "# split the dataset - with feature names\n",
    "data = pd.read_csv(\"./ccpp_all.csv\", sep=\",\")\n",
    "n = len(data)\n",
    "print(\"Number of total samples:\",n)\n",
    "idx = np.arange(n)\n",
    "random.shuffle(idx)\n",
    "num_training = int(.7*n)\n",
    "print(\"Number of total training samples:\",num_training)\n",
    "\n",
    "train_idx, valid_idx, test_idx = idx[:int(.7*n)], idx[int(.7*n):int(.85*n)], idx[int(.85*n):]\n",
    "train_idx_20 = train_idx[:int(0.2*num_training)]\n",
    "print(\"Number of 20% training samples:\",len(train_idx_20))\n",
    "train_idx_40 = train_idx[:int(0.4*num_training)]\n",
    "print(\"Number of 40% training samples:\",len(train_idx_40))\n",
    "train_idx_60 = train_idx[:int(0.6*num_training)]\n",
    "print(\"Number of 60%  training samples:\",len(train_idx_60))\n",
    "train_idx_80 = train_idx[:int(0.6*num_training)]\n",
    "print(\"Number of 80%  training samples:\",len(train_idx_80))\n",
    "\n",
    "print(\"Number of validation samples:\",len(valid_idx))\n",
    "print(\"Number of testing samples:\",len(test_idx))\n",
    "\n",
    "data.loc[train_idx].to_csv(\"./ccpp_train_full.csv\", sep=\",\")\n",
    "data.loc[train_idx_20].to_csv(\"./ccpp_train_20.csv\", sep=\",\")\n",
    "data.loc[train_idx_40].to_csv(\"./ccpp_train_40.csv\", sep=\",\")\n",
    "data.loc[train_idx_60].to_csv(\"./ccpp_train_60.csv\", sep=\",\")\n",
    "data.loc[train_idx_80].to_csv(\"./ccpp_train_80.csv\", sep=\",\")\n",
    "data.loc[test_idx].to_csv(\"./ccpp_test.csv\", sep=\",\")\n",
    "data.loc[valid_idx].to_csv(\"./ccpp_valid.csv\", sep=\",\")"
   ]
  },
  {
   "cell_type": "code",
   "execution_count": 5,
   "id": "cd3e7501",
   "metadata": {},
   "outputs": [],
   "source": [
    "# prompts with feature names\n",
    "train_data = pd.read_csv(\"./ccpp_train_full.csv\", sep=\",\")\n",
    "df2jsonl_feature_name(train_data,\"ccpp_fn_full_train.jsonl\")\n",
    "\n",
    "train_data = pd.read_csv(\"./ccpp_train_20.csv\", sep=\",\")\n",
    "df2jsonl_feature_name(train_data,\"ccpp_fn_20_train.jsonl\")\n",
    "\n",
    "train_data = pd.read_csv(\"./ccpp_train_40.csv\", sep=\",\")\n",
    "df2jsonl_feature_name(train_data,\"ccpp_fn_40_train.jsonl\")\n",
    "\n",
    "train_data = pd.read_csv(\"./ccpp_train_60.csv\", sep=\",\")\n",
    "df2jsonl_feature_name(train_data,\"ccpp_fn_60_train.jsonl\")\n",
    "\n",
    "train_data = pd.read_csv(\"./ccpp_train_80.csv\", sep=\",\")\n",
    "df2jsonl_feature_name(train_data,\"ccpp_fn_80_train.jsonl\")\n",
    "\n",
    "test_data = pd.read_csv(\"./ccpp_test.csv\", sep=\",\")\n",
    "df2jsonl_feature_name(test_data,\"ccpp_fn_test.jsonl\")\n",
    "\n",
    "valid_data = pd.read_csv(\"./ccpp_valid.csv\", sep=\",\")\n",
    "df2jsonl_feature_name(valid_data,\"ccpp_fn_valid.jsonl\")"
   ]
  },
  {
   "cell_type": "code",
   "execution_count": 6,
   "id": "d25932b9",
   "metadata": {},
   "outputs": [],
   "source": [
    "# prompts without feature names\n",
    "train_data = pd.read_csv(\"./ccpp_train_full.csv\", sep=\",\")\n",
    "df2jsonl(train_data,\"ccpp_full_train.jsonl\")\n",
    "\n",
    "train_data = pd.read_csv(\"./ccpp_train_20.csv\", sep=\",\")\n",
    "df2jsonl(train_data,\"ccpp_20_train.jsonl\")\n",
    "\n",
    "train_data = pd.read_csv(\"./ccpp_train_40.csv\", sep=\",\")\n",
    "df2jsonl(train_data,\"ccpp_40_train.jsonl\")\n",
    "\n",
    "train_data = pd.read_csv(\"./ccpp_train_60.csv\", sep=\",\")\n",
    "df2jsonl(train_data,\"ccpp_60_train.jsonl\")\n",
    "\n",
    "train_data = pd.read_csv(\"./ccpp_train_80.csv\", sep=\",\")\n",
    "df2jsonl(train_data,\"ccpp_80_train.jsonl\")\n",
    "\n",
    "test_data = pd.read_csv(\"./ccpp_test.csv\", sep=\",\")\n",
    "df2jsonl(test_data,\"ccpp_test.jsonl\")\n",
    "\n",
    "valid_data = pd.read_csv(\"./ccpp_valid.csv\", sep=\",\")\n",
    "df2jsonl(valid_data,\"ccpp_valid.jsonl\")"
   ]
  },
  {
   "cell_type": "code",
   "execution_count": 7,
   "id": "c1a7bea7",
   "metadata": {},
   "outputs": [],
   "source": [
    "# convert to numerical data\n",
    "# Nothing to convert"
   ]
  },
  {
   "cell_type": "code",
   "execution_count": 8,
   "id": "fc27ae98",
   "metadata": {},
   "outputs": [],
   "source": [
    "# train_data = pd.read_csv(\"./ccpp_train.csv\", sep=\",\")\n",
    "# df2jsonl(train_data,\"ccpp_train.jsonl\")\n",
    "\n",
    "# test_data = pd.read_csv(\"./ccpp_test.csv\", sep=\",\")\n",
    "# df2jsonl(test_data,\"ccpp_test.jsonl\")\n",
    "\n",
    "# valid_data = pd.read_csv(\"./ccpp_valid.csv\", sep=\",\")\n",
    "# df2jsonl(valid_data,\"ccpp_valid.jsonl\")"
   ]
  }
 ],
 "metadata": {
  "kernelspec": {
   "display_name": "Python 3 (ipykernel)",
   "language": "python",
   "name": "python3"
  },
  "language_info": {
   "codemirror_mode": {
    "name": "ipython",
    "version": 3
   },
   "file_extension": ".py",
   "mimetype": "text/x-python",
   "name": "python",
   "nbconvert_exporter": "python",
   "pygments_lexer": "ipython3",
   "version": "3.7.11"
  }
 },
 "nbformat": 4,
 "nbformat_minor": 5
}
