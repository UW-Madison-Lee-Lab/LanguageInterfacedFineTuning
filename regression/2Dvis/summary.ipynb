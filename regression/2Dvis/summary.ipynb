{
 "cells": [
  {
   "cell_type": "code",
   "execution_count": 1,
   "id": "1679f41f",
   "metadata": {},
   "outputs": [],
   "source": [
    "import sys, os, importlib, torch\n",
    "sys.path.insert(1, '../utils')"
   ]
  },
  {
   "cell_type": "code",
   "execution_count": 2,
   "id": "83a90c7b",
   "metadata": {},
   "outputs": [],
   "source": [
    "from resultsCollector import *"
   ]
  },
  {
   "cell_type": "code",
   "execution_count": 3,
   "id": "fb17feb8",
   "metadata": {},
   "outputs": [],
   "source": [
    "file_list = [] \n",
    "for file in os.listdir('data_1'):\n",
    "    if file.endswith('all.json'):\n",
    "        file_list.append('data_1/' + file)"
   ]
  },
  {
   "cell_type": "code",
   "execution_count": 4,
   "id": "3fca7dd8",
   "metadata": {
    "scrolled": true
   },
   "outputs": [
    {
     "name": "stdout",
     "output_type": "stream",
     "text": [
      "----------------------------1------------------------------\n",
      "file path:  data_1/linear_n_350_p_2_int_0_(-10.0,10.0)_noise_0.10_all.json\n",
      "GPTJ RAE: 0.1005\n",
      "----------------------------2------------------------------\n",
      "file path:  data_1/l1norm_n_250_p_2_int_0_(-10.0,10.0)_noise_0.10_all.json\n",
      "GPTJ RAE: 0.4027\n",
      "----------------------------3------------------------------\n",
      "file path:  data_1/linear_n_250_p_2_int_0_(-10.0,10.0)_noise_0.10_all.json\n",
      "GPTJ RAE: 0.1594\n",
      "----------------------------4------------------------------\n",
      "file path:  data_1/piecewise_n_250_p_2_int_0_(-10.0,10.0)_noise_0.10_all.json\n",
      "GPTJ RAE: 0.5368\n",
      "----------------------------5------------------------------\n",
      "file path:  data_1/quadratic_n_350_p_2_int_0_(-10.0,10.0)_noise_0.10_all.json\n",
      "GPTJ RAE: 0.1971\n",
      "----------------------------6------------------------------\n",
      "file path:  data_1/cosine_n_250_p_2_int_0_(-10.0,10.0)_noise_0.10_all.json\n",
      "GPTJ RAE: 0.6446\n",
      "----------------------------7------------------------------\n",
      "file path:  data_1/cosine_n_350_p_2_int_0_(-10.0,10.0)_noise_0.10_all.json\n",
      "GPTJ RAE: 0.7850\n",
      "----------------------------8------------------------------\n",
      "file path:  data_1/piecewise_n_550_p_2_int_0_(-10.0,10.0)_noise_0.10_all.json\n",
      "GPTJ RAE: 0.2796\n",
      "----------------------------9------------------------------\n",
      "file path:  data_1/quadratic_n_550_p_2_int_0_(-10.0,10.0)_noise_0.10_all.json\n",
      "GPTJ RAE: 0.1519\n",
      "----------------------------10------------------------------\n",
      "file path:  data_1/quadratic_n_250_p_2_int_0_(-10.0,10.0)_noise_0.10_all.json\n",
      "GPTJ RAE: 0.3121\n",
      "----------------------------11------------------------------\n",
      "file path:  data_1/exponential_n_550_p_2_int_0_(-10.0,10.0)_noise_0.10_all.json\n",
      "GPTJ RAE: 0.0997\n",
      "----------------------------12------------------------------\n",
      "file path:  data_1/exponential_n_250_p_2_int_0_(-10.0,10.0)_noise_0.10_all.json\n",
      "GPTJ RAE: 0.3493\n",
      "----------------------------13------------------------------\n",
      "file path:  data_1/linear_n_1050_p_2_int_0_(-10.0,10.0)_noise_0.10_all.json\n",
      "GPTJ RAE: 0.1137\n",
      "----------------------------14------------------------------\n",
      "file path:  data_1/quadratic_n_1050_p_2_int_0_(-10.0,10.0)_noise_0.10_all.json\n",
      "GPTJ RAE: 0.1336\n",
      "----------------------------15------------------------------\n",
      "file path:  data_1/exponential_n_1050_p_2_int_0_(-10.0,10.0)_noise_0.10_all.json\n",
      "GPTJ RAE: 0.1719\n",
      "----------------------------16------------------------------\n",
      "file path:  data_1/cosine_n_1050_p_2_int_0_(-10.0,10.0)_noise_0.10_all.json\n",
      "GPTJ RAE: 0.2789\n",
      "----------------------------17------------------------------\n",
      "file path:  data_1/cosine_n_550_p_2_int_0_(-10.0,10.0)_noise_0.10_all.json\n",
      "GPTJ RAE: 0.3366\n",
      "----------------------------18------------------------------\n",
      "file path:  data_1/exponential_n_350_p_2_int_0_(-10.0,10.0)_noise_0.10_all.json\n",
      "GPTJ RAE: 0.2306\n",
      "----------------------------19------------------------------\n",
      "file path:  data_1/linear_n_550_p_2_int_0_(-10.0,10.0)_noise_0.10_all.json\n",
      "GPTJ RAE: 0.0620\n",
      "----------------------------20------------------------------\n",
      "file path:  data_1/l1norm_n_1050_p_2_int_0_(-10.0,10.0)_noise_0.10_all.json\n",
      "GPTJ RAE: 0.1405\n",
      "----------------------------21------------------------------\n",
      "file path:  data_1/l1norm_n_350_p_2_int_0_(-10.0,10.0)_noise_0.10_all.json\n",
      "GPTJ RAE: 0.2512\n",
      "----------------------------22------------------------------\n",
      "file path:  data_1/l1norm_n_550_p_2_int_0_(-10.0,10.0)_noise_0.10_all.json\n",
      "GPTJ RAE: 0.1199\n",
      "----------------------------23------------------------------\n",
      "file path:  data_1/piecewise_n_350_p_2_int_0_(-10.0,10.0)_noise_0.10_all.json\n",
      "GPTJ RAE: 0.2391\n",
      "----------------------------24------------------------------\n",
      "file path:  data_1/piecewise_n_1050_p_2_int_0_(-10.0,10.0)_noise_0.10_all.json\n",
      "GPTJ RAE: 0.1729\n"
     ]
    }
   ],
   "source": [
    "collect_data_json(file_list, baseline = False, gpt3 = False, grid_loss = True)"
   ]
  },
  {
   "cell_type": "code",
   "execution_count": 5,
   "id": "7eed0207",
   "metadata": {},
   "outputs": [],
   "source": [
    "with open(file_list[0], 'r') as f:\n",
    "    data_json = json.load(f)"
   ]
  },
  {
   "cell_type": "code",
   "execution_count": 6,
   "id": "b2461807",
   "metadata": {},
   "outputs": [
    {
     "data": {
      "text/plain": [
       "dict_keys(['train_x', 'train_y', 'validation_x', 'validation_y', 'test_x', 'test_y', 'gpt3_test_y', 'grid_x', 'grid_y', 'gpt3_grid_y', 'openai_key', 'ft_id', 'model_id', 'poly_test_y', 'poly_loss', 'poly_grid_y', 'poly_loss_grid', 'poly_loss_grid_woe', 'krr_test_y', 'krr_loss', 'krr_grid_y', 'krr_loss_grid', 'krr_loss_grid_woe', 'knn_test_y', 'knn_loss', 'knn_grid_y', 'knn_loss_grid', 'knn_loss_grid_woe', 'nn_test_y', 'nn_loss', 'nn_grid_y', 'nn_loss_grid', 'nn_loss_grid_woe', 'xg_test_y', 'xg_loss', 'xg_grid_y', 'xg_loss_grid', 'xg_loss_grid_woe', 'rf_test_y', 'rf_loss', 'rf_grid_y', 'rf_loss_grid', 'rf_loss_grid_woe', 'gp_test_y', 'gp_loss', 'gp_grid_y', 'gp_loss_grid', 'gp_loss_grid_woe', 'loss_woo', 'num_o', 'loss', 'pc_valid_grid', 'loss_grid', 'pc_valid_grid_woe', 'loss_grid_woe', 'gptj_test_y', 'gptj_grid_y', 'gptj_grid_loss', 'gptj_loss', 'loss_gptj', 'loss_grid_gptj', 'loss_grid_gptj_woe'])"
      ]
     },
     "execution_count": 6,
     "metadata": {},
     "output_type": "execute_result"
    }
   ],
   "source": [
    "data_json.keys()"
   ]
  },
  {
   "cell_type": "code",
   "execution_count": null,
   "id": "1b700fc0",
   "metadata": {},
   "outputs": [],
   "source": []
  }
 ],
 "metadata": {
  "kernelspec": {
   "display_name": "Environment (conda_pytorch_p38)",
   "language": "python",
   "name": "conda_pytorch_p38"
  },
  "language_info": {
   "codemirror_mode": {
    "name": "ipython",
    "version": 3
   },
   "file_extension": ".py",
   "mimetype": "text/x-python",
   "name": "python",
   "nbconvert_exporter": "python",
   "pygments_lexer": "ipython3",
   "version": "3.8.12"
  }
 },
 "nbformat": 4,
 "nbformat_minor": 5
}
